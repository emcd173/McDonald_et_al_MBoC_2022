{
 "cells": [
  {
   "cell_type": "code",
   "execution_count": 1,
   "metadata": {},
   "outputs": [],
   "source": [
    "import numpy as np\n",
    "import pandas as pd \n",
    "import matplotlib.pyplot as plt\n",
    "import math "
   ]
  },
  {
   "cell_type": "code",
   "execution_count": 2,
   "metadata": {},
   "outputs": [],
   "source": [
    "#data = pd.read_excel('./CFTR-interactome-data_merged_20210524.xlsx', skiprows=2)\n",
    "#data = pd.read_excel('./CFTR-interactome-data_merged_20210701.xlsx')\n",
    "\n",
    "data = pd.read_excel('./CFTR-interactome-data_merged_20210705_2.xlsx')"
   ]
  },
  {
   "cell_type": "code",
   "execution_count": 3,
   "metadata": {},
   "outputs": [],
   "source": [
    "# drop runs 7, 8, and 9 \n",
    "keep_run = []\n",
    "for i in data:\n",
    "    if 'Run 7' not in i and 'Run 9' not in i and 'Run 8' not in i:\n",
    "        keep_run.append(i)"
   ]
  },
  {
   "cell_type": "code",
   "execution_count": 4,
   "metadata": {},
   "outputs": [],
   "source": [
    "data2 = data[keep_run]"
   ]
  },
  {
   "cell_type": "code",
   "execution_count": 5,
   "metadata": {},
   "outputs": [],
   "source": [
    "# get the medians for each run \n",
    "run_meds = {'Run 1': [], 'Run 2': [], 'Run 3': [], 'Run 4': [],\n",
    "            'Run 5': [], 'Run 6': [], 'Run 7': [], 'Run 8': [],\n",
    "            'Run 9': [], 'Run 10': [], 'Run 11': [], 'Run 12' : [],\n",
    "            'Run 13' : []}\n",
    "\n",
    "for i in data2:\n",
    "    if 'Run 1 ' in i:\n",
    "        run_meds['Run 1'].append(data2[i].median())\n",
    "    if 'Run 2 ' in i:\n",
    "        run_meds['Run 2'].append(data2[i].median())\n",
    "    if 'Run 3 ' in i:\n",
    "        run_meds['Run 3'].append(data2[i].median())\n",
    "    if 'Run 4 ' in i:\n",
    "        run_meds['Run 4'].append(data2[i].median())\n",
    "    if 'Run 5 ' in i:\n",
    "        run_meds['Run 5'].append(data2[i].median())\n",
    "    if 'Run 6 ' in i:\n",
    "        run_meds['Run 6'].append(data2[i].median())\n",
    "    if 'Run 10 ' in i:\n",
    "        run_meds['Run 10'].append(data2[i].median())\n",
    "    if 'Run 11 ' in i:\n",
    "        run_meds['Run 11'].append(data2[i].median())\n",
    "    if 'Run 12 ' in i:\n",
    "        run_meds['Run 12'].append(data2[i].median())\n",
    "    if 'Run 13 ' in i:\n",
    "        run_meds['Run 13'].append(data2[i].median())"
   ]
  },
  {
   "cell_type": "code",
   "execution_count": 6,
   "metadata": {},
   "outputs": [],
   "source": [
    "# normalize to the median \n",
    "data3 = pd.DataFrame()\n",
    "data3['Gene Name'] = data2['Gene Name']\n",
    "for i in data2:\n",
    "    if 'Run' in i:\n",
    "        run = ' '.join(i.split(' ')[0:2])\n",
    "        norm = np.mean(run_meds[run])/ data2[i].median()\n",
    "        data3[i] = data2[i]*norm"
   ]
  },
  {
   "cell_type": "code",
   "execution_count": 13,
   "metadata": {},
   "outputs": [],
   "source": [
    "TD1 = np.log2(data2['Run 1 TD-tomato'])\n",
    "TD1 = TD1[~np.isnan(TD1)]\n",
    "WT1 = np.log2(data2['Run 1 WT-DMSO'])\n",
    "WT1 = WT1[~np.isnan(WT1)]\n",
    "\n",
    "TD2 = np.log2(data2['Run 2 TD-tomato'])\n",
    "TD2 = TD2[~np.isnan(TD2)]\n",
    "WT2 = np.log2(data2['Run 2 WT-DMSO'])\n",
    "WT2 = WT2[~np.isnan(WT2)]\n",
    "\n",
    "TD3 = np.log2(data2['Run 3 TD-tomato'])\n",
    "TD3 = TD3[~np.isnan(TD3)]\n",
    "WT3 = np.log2(data2['Run 3 WT-DMSO'])\n",
    "WT3 = WT3[~np.isnan(WT3)]\n",
    "\n",
    "TD4 = np.log2(data2['Run 4 TD-tomato'])\n",
    "TD4 = TD4[~np.isnan(TD4)]\n",
    "WT4 = np.log2(data2['Run 4 WT-DMSO'])\n",
    "WT4 = WT4[~np.isnan(WT4)]\n",
    "\n",
    "TD5 = np.log2(data2['Run 5 TD-tomato'])\n",
    "TD5 = TD5[~np.isnan(TD5)]\n",
    "WT5 = np.log2(data2['Run 5 WT-DMSO'])\n",
    "WT5 = WT5[~np.isnan(WT5)]\n",
    "\n",
    "TD6 = np.log2(data2['Run 6 td-tomato'])\n",
    "TD6 = TD6[~np.isnan(TD6)]\n",
    "WT6 = np.log2(data2['Run 6 WT-DMSO'])\n",
    "WT6 = WT6[~np.isnan(WT6)]\n",
    "\n",
    "TD10 = np.log2(data2['Run 10 TD-tomato'])\n",
    "TD10 = TD10[~np.isnan(TD10)]\n",
    "WT10 = np.log2(data2['Run 10 WT-DMSO'])\n",
    "WT10 = WT10[~np.isnan(WT10)]\n",
    "\n",
    "TD11 = np.log2(data2['Run 11 TD-tomato'])\n",
    "TD11 = TD11[~np.isnan(TD11)]\n",
    "WT11 = np.log2(data2['Run 11 WT-DMSO'])\n",
    "WT11 = WT11[~np.isnan(WT11)]\n",
    "\n",
    "TD12 = np.log2(data2['Run 12 TD-tomato  avg'])\n",
    "TD12 = TD12[~np.isnan(TD12)]\n",
    "WT12 = np.log2(data2['Run 12 WT-DMSO'])\n",
    "WT12 = WT12[~np.isnan(WT12)]\n",
    "\n",
    "TD13 = np.log2(data2['Run 13 TD-tomato'])\n",
    "TD13 = TD13[~np.isnan(TD13)]\n",
    "WT13 = np.log2(data2['Run 13 WT-DMSO'])\n",
    "WT13 = WT13[~np.isnan(WT13)]\n"
   ]
  },
  {
   "cell_type": "code",
   "execution_count": 14,
   "metadata": {},
   "outputs": [
    {
     "name": "stderr",
     "output_type": "stream",
     "text": [
      "/Users/elimcdonald/opt/anaconda3/lib/python3.8/site-packages/numpy/core/_asarray.py:83: VisibleDeprecationWarning: Creating an ndarray from ragged nested sequences (which is a list-or-tuple of lists-or-tuples-or ndarrays with different lengths or shapes) is deprecated. If you meant to do this, you must specify 'dtype=object' when creating the ndarray\n",
      "  return array(a, dtype, copy=False, order=order)\n",
      "/Users/elimcdonald/opt/anaconda3/lib/python3.8/site-packages/numpy/core/_asarray.py:83: VisibleDeprecationWarning: Creating an ndarray from ragged nested sequences (which is a list-or-tuple of lists-or-tuples-or ndarrays with different lengths or shapes) is deprecated. If you meant to do this, you must specify 'dtype=object' when creating the ndarray\n",
      "  return array(a, dtype, copy=False, order=order)\n"
     ]
    },
    {
     "data": {
      "image/png": "[encoded data removed]",
      "text/plain": [
       "<Figure size 864x864 with 1 Axes>"
      ]
     },
     "metadata": {
      "needs_background": "light"
     },
     "output_type": "display_data"
    }
   ],
   "source": [
    "c='red'\n",
    "c2 = 'deepskyblue'\n",
    "plt.figure(figsize=(12,12))\n",
    "\n",
    "plt.boxplot([TD1, TD2, TD3, TD4, TD5, TD6, TD10, TD11, TD12, TD13], \n",
    "            positions=[1, 2, 3, 4, 5, 6, 7, 8, 9, 10],\n",
    "            widths = 0.37,\n",
    "            whis=1.5, patch_artist=True,\n",
    "            boxprops=dict(facecolor=c, color='k', lw =2),\n",
    "            capprops=dict(color=c, lw=4),\n",
    "            whiskerprops=dict(color=c, lw=4),\n",
    "            flierprops=dict(color=c, markeredgecolor=c),\n",
    "            medianprops=dict(color='k', lw=2),\n",
    "            showfliers=0)\n",
    "\n",
    "\n",
    "plt.boxplot([WT1, WT2, WT3, WT4, WT5, WT6, WT10, WT11, WT12, WT13], \n",
    "            positions=[1.5, 2.5, 3.5, 4.5, 5.5, 6.5, 7.5, 8.5, 9.5, 10.5],\n",
    "            widths = 0.37,\n",
    "            whis=1.5, patch_artist=True,\n",
    "            boxprops=dict(facecolor=c2, color='k', lw=2),\n",
    "            capprops=dict(color=c2, lw=4),\n",
    "            whiskerprops=dict(color=c2, lw=4),\n",
    "            flierprops=dict(color=c2, markeredgecolor=c2),\n",
    "            medianprops=dict(color='k', lw =2), \n",
    "            showfliers=0)\n",
    "plt.yticks(fontsize=30)\n",
    "plt.ylim(0,18)\n",
    "plt.ylabel('log2(TMT intensity)', fontsize=40)\n",
    "plt.savefig('../Figures/unnormalized_TMT_int.svg', format='svg')\n",
    "plt.show()\n",
    "\n"
   ]
  },
  {
   "cell_type": "code",
   "execution_count": 9,
   "metadata": {},
   "outputs": [],
   "source": [
    "TD1 = np.log2(data3['Run 1 TD-tomato'])\n",
    "TD1 = TD1[~np.isnan(TD1)]\n",
    "WT1 = np.log2(data3['Run 1 WT-DMSO'])\n",
    "WT1 = WT1[~np.isnan(WT1)]\n",
    "\n",
    "TD2 = np.log2(data3['Run 2 TD-tomato'])\n",
    "TD2 = TD2[~np.isnan(TD2)]\n",
    "WT2 = np.log2(data3['Run 2 WT-DMSO'])\n",
    "WT2 = WT2[~np.isnan(WT2)]\n",
    "\n",
    "TD3 = np.log2(data3['Run 3 TD-tomato'])\n",
    "TD3 = TD3[~np.isnan(TD3)]\n",
    "WT3 = np.log2(data3['Run 3 WT-DMSO'])\n",
    "WT3 = WT3[~np.isnan(WT3)]\n",
    "\n",
    "TD4 = np.log2(data3['Run 4 TD-tomato'])\n",
    "TD4 = TD4[~np.isnan(TD4)]\n",
    "WT4 = np.log2(data3['Run 4 WT-DMSO'])\n",
    "WT4 = WT4[~np.isnan(WT4)]\n",
    "\n",
    "TD5 = np.log2(data3['Run 5 TD-tomato'])\n",
    "TD5 = TD5[~np.isnan(TD5)]\n",
    "WT5 = np.log2(data3['Run 5 WT-DMSO'])\n",
    "WT5 = WT5[~np.isnan(WT5)]\n",
    "\n",
    "TD6 = np.log2(data3['Run 6 td-tomato'])\n",
    "TD6 = TD6[~np.isnan(TD6)]\n",
    "WT6 = np.log2(data3['Run 6 WT-DMSO'])\n",
    "WT6 = WT6[~np.isnan(WT6)]\n",
    "\n",
    "TD10 = np.log2(data3['Run 10 TD-tomato'])\n",
    "TD10 = TD10[~np.isnan(TD10)]\n",
    "WT10 = np.log2(data3['Run 10 WT-DMSO'])\n",
    "WT10 = WT10[~np.isnan(WT10)]\n",
    "\n",
    "TD11 = np.log2(data3['Run 11 TD-tomato'])\n",
    "TD11 = TD11[~np.isnan(TD11)]\n",
    "WT11 = np.log2(data3['Run 11 WT-DMSO'])\n",
    "WT11 = WT11[~np.isnan(WT11)]\n",
    "\n",
    "\n",
    "TD12 = np.log2(data3['Run 12 TD-tomato  avg'])\n",
    "TD12 = TD12[~np.isnan(TD12)]\n",
    "WT12 = np.log2(data3['Run 12 WT-DMSO'])\n",
    "WT12 = WT12[~np.isnan(WT12)]\n",
    "\n",
    "TD13 = np.log2(data3['Run 13 TD-tomato'])\n",
    "TD13 = TD13[~np.isnan(TD13)]\n",
    "WT13 = np.log2(data3['Run 13 WT-DMSO'])\n",
    "WT13 = WT13[~np.isnan(WT13)]\n"
   ]
  },
  {
   "cell_type": "code",
   "execution_count": 12,
   "metadata": {},
   "outputs": [
    {
     "name": "stderr",
     "output_type": "stream",
     "text": [
      "/Users/elimcdonald/opt/anaconda3/lib/python3.8/site-packages/numpy/core/_asarray.py:83: VisibleDeprecationWarning: Creating an ndarray from ragged nested sequences (which is a list-or-tuple of lists-or-tuples-or ndarrays with different lengths or shapes) is deprecated. If you meant to do this, you must specify 'dtype=object' when creating the ndarray\n",
      "  return array(a, dtype, copy=False, order=order)\n",
      "/Users/elimcdonald/opt/anaconda3/lib/python3.8/site-packages/numpy/core/_asarray.py:83: VisibleDeprecationWarning: Creating an ndarray from ragged nested sequences (which is a list-or-tuple of lists-or-tuples-or ndarrays with different lengths or shapes) is deprecated. If you meant to do this, you must specify 'dtype=object' when creating the ndarray\n",
      "  return array(a, dtype, copy=False, order=order)\n"
     ]
    },
    {
     "data": {
      "image/png": "[encoded data removed]",
      "text/plain": [
       "<Figure size 864x864 with 1 Axes>"
      ]
     },
     "metadata": {
      "needs_background": "light"
     },
     "output_type": "display_data"
    }
   ],
   "source": [
    "c='red'\n",
    "c2 = 'deepskyblue'\n",
    "plt.figure(figsize=(12,12))\n",
    "\n",
    "plt.boxplot([TD1, TD2, TD3, TD4, TD5, TD6, TD10, TD11, TD12, TD13], \n",
    "            positions=[1, 2, 3, 4, 5, 6, 7, 8, 9, 10],\n",
    "            widths = 0.37,\n",
    "            whis=1.5, patch_artist=True,\n",
    "            boxprops=dict(facecolor=c, color='k', lw =2),\n",
    "            capprops=dict(color=c, lw=4),\n",
    "            whiskerprops=dict(color=c, lw=4),\n",
    "            flierprops=dict(color=c, markeredgecolor=c),\n",
    "            medianprops=dict(color='k', lw=2),\n",
    "            showfliers=0)\n",
    "\n",
    "\n",
    "plt.boxplot([WT1, WT2, WT3, WT4, WT5, WT6, WT10, WT11, WT12, WT13], \n",
    "            positions=[1.5, 2.5, 3.5, 4.5, 5.5, 6.5, 7.5, 8.5, 9.5, 10.5],\n",
    "            widths = 0.37,\n",
    "            whis=1.5, patch_artist=True,\n",
    "            boxprops=dict(facecolor=c2, color='k', lw=2),\n",
    "            capprops=dict(color=c2, lw=4),\n",
    "            whiskerprops=dict(color=c2, lw=4),\n",
    "            flierprops=dict(color=c2, markeredgecolor=c2),\n",
    "            medianprops=dict(color='k', lw =2), \n",
    "            showfliers=0)\n",
    "plt.yticks(fontsize=30)\n",
    "plt.ylim(0,18)\n",
    "plt.ylabel('log2(TMT intensity)', fontsize=40)\n",
    "plt.savefig('../Figures/normalized_TMT_int.svg', format='svg')\n",
    "plt.show()\n"
   ]
  },
  {
   "cell_type": "code",
   "execution_count": null,
   "metadata": {},
   "outputs": [],
   "source": []
  }
 ],
 "metadata": {
  "kernelspec": {
   "display_name": "Python 3",
   "language": "python",
   "name": "python3"
  },
  "language_info": {
   "codemirror_mode": {
    "name": "ipython",
    "version": 3
   },
   "file_extension": ".py",
   "mimetype": "text/x-python",
   "name": "python",
   "nbconvert_exporter": "python",
   "pygments_lexer": "ipython3",
   "version": "3.8.3"
  }
 },
 "nbformat": 4,
 "nbformat_minor": 4
}
